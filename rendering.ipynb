{
 "cells": [
  {
   "cell_type": "code",
   "execution_count": 1,
   "id": "6e7a83d3",
   "metadata": {},
   "outputs": [],
   "source": [
    "#j'ai installé le module aspose.words via cette commande:pip install aspose-words(dans le QTconsole)\n"
   ]
  },
  {
   "cell_type": "code",
   "execution_count": 2,
   "id": "f7e8ca32",
   "metadata": {},
   "outputs": [],
   "source": [
    "import aspose.words as aw"
   ]
  },
  {
   "cell_type": "code",
   "execution_count": 8,
   "id": "95056eb7",
   "metadata": {},
   "outputs": [
    {
     "name": "stdout",
     "output_type": "stream",
     "text": [
      "Veuillez donner un fichier PDF\n",
      "ML_Intro.pdf\n"
     ]
    },
    {
     "ename": "RuntimeError",
     "evalue": "Proxy error(FileNotFoundException): Could not find file 'C:\\Users\\Yakine Masghouni\\Desktop\\digitalberry\\ML_Intro.pdf'.",
     "output_type": "error",
     "traceback": [
      "\u001b[1;31m---------------------------------------------------------------------------\u001b[0m",
      "\u001b[1;31mRuntimeError\u001b[0m                              Traceback (most recent call last)",
      "Input \u001b[1;32mIn [8]\u001b[0m, in \u001b[0;36m<cell line: 3>\u001b[1;34m()\u001b[0m\n\u001b[0;32m      1\u001b[0m \u001b[38;5;28mprint\u001b[39m(\u001b[38;5;124m\"\u001b[39m\u001b[38;5;124mVeuillez donner un fichier PDF\u001b[39m\u001b[38;5;124m\"\u001b[39m)\n\u001b[0;32m      2\u001b[0m \u001b[38;5;66;03m#Ouvrir le fichier PDF\u001b[39;00m\n\u001b[1;32m----> 3\u001b[0m doc \u001b[38;5;241m=\u001b[39m \u001b[43maw\u001b[49m\u001b[38;5;241;43m.\u001b[39;49m\u001b[43mDocument\u001b[49m\u001b[43m(\u001b[49m\u001b[38;5;28;43minput\u001b[39;49m\u001b[43m(\u001b[49m\u001b[43m)\u001b[49m\u001b[43m)\u001b[49m\n\u001b[0;32m      4\u001b[0m \u001b[38;5;66;03m#Parcourir le fichier (page par page)\u001b[39;00m\n\u001b[0;32m      5\u001b[0m \u001b[38;5;28;01mfor\u001b[39;00m page \u001b[38;5;129;01min\u001b[39;00m \u001b[38;5;28mrange\u001b[39m(\u001b[38;5;241m0\u001b[39m, doc\u001b[38;5;241m.\u001b[39mpage_count):\n",
      "\u001b[1;31mRuntimeError\u001b[0m: Proxy error(FileNotFoundException): Could not find file 'C:\\Users\\Yakine Masghouni\\Desktop\\digitalberry\\ML_Intro.pdf'."
     ]
    }
   ],
   "source": [
    "print(\"Veuillez donner un fichier PDF\")\n",
    "#Ouvrir le fichier PDF\n",
    "doc = aw.Document(input())\n",
    "#Parcourir le fichier (page par page)\n",
    "for page in range(0, doc.page_count):\n",
    "    extractedPage = doc.extract_pages(page, 1)\n",
    "    extractedPage.save(f\"Output_{page + 1}.png\")#le resultat sera enregistrer sous le nom Output concaténé avec le numero de page\n",
    "print (\"succes\")\n",
    "\n"
   ]
  },
  {
   "cell_type": "code",
   "execution_count": null,
   "id": "6735deb1",
   "metadata": {},
   "outputs": [],
   "source": []
  },
  {
   "cell_type": "code",
   "execution_count": null,
   "id": "a62357c5",
   "metadata": {},
   "outputs": [],
   "source": []
  }
 ],
 "metadata": {
  "kernelspec": {
   "display_name": "Python 3 (ipykernel)",
   "language": "python",
   "name": "python3"
  },
  "language_info": {
   "codemirror_mode": {
    "name": "ipython",
    "version": 3
   },
   "file_extension": ".py",
   "mimetype": "text/x-python",
   "name": "python",
   "nbconvert_exporter": "python",
   "pygments_lexer": "ipython3",
   "version": "3.9.12"
  }
 },
 "nbformat": 4,
 "nbformat_minor": 5
}
